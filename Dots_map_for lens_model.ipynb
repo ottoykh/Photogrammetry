{
  "nbformat": 4,
  "nbformat_minor": 0,
  "metadata": {
    "colab": {
      "provenance": [],
      "toc_visible": true
    },
    "kernelspec": {
      "name": "python3",
      "display_name": "Python 3"
    },
    "language_info": {
      "name": "python"
    },
    "accelerator": "GPU"
  },
  "cells": [
    {
      "cell_type": "code",
      "execution_count": null,
      "metadata": {
        "id": "mkUS5DNXUKPb"
      },
      "outputs": [],
      "source": [
        "import numpy as np\n",
        "from matplotlib import pyplot as plt\n",
        "from scipy.optimize import least_squares\n",
        "\n",
        "import scipy.ndimage\n",
        "from skimage.io import imread\n",
        "\n",
        "!apt-get -qq install -y libsm6 libxext6 && pip install -q -U opencv-python\n",
        "import cv2"
      ]
    },
    {
      "cell_type": "code",
      "source": [
        "distortion = np.array([1.39463836e-01  ,-6.82962078e-03 ,1.49562264e-04  ,-1.50391870e-06 ,5.66074856e-09])\n",
        "\n",
        "grid_size, square_size = [50, 50], 0.2\n",
        "object_points = np.zeros([grid_size[0] * grid_size[1], 3])\n",
        "mx, my = [(grid_size[0] - 1) * square_size / 2, (grid_size[1] - 1) * square_size / 2]\n",
        "for i in range(grid_size[0]):\n",
        "    for j in range(grid_size[1]):\n",
        "        object_points[i * grid_size[0] + j] = [i * square_size - mx, j * square_size - my, 0]\n",
        "\n",
        "f, p = [0.004417595 , 120e-8] \n",
        "intrinsic = np.array([[f/p, 0, 0], [0, f/p, 0], [0, 0, 0]])\n",
        "rvec = np.array([0.0, 0.0, 0.0])\n",
        "tvec = np.array([0.0, 0.0, 3.0])\n",
        "\n",
        "image_points, jacobian = cv2.projectPoints(object_points, rvec, tvec, intrinsic, distortion)\n",
        "\n",
        "plt.scatter(*zip(*image_points[:, 0, :]), 50, marker='.',color = 'red')\n",
        "plt.axis('equal')\n",
        "plt.xlim(-2016, 2016)\n",
        "plt.ylim(-1134, 1134)\n",
        "\n",
        "plt.minorticks_on()\n",
        "plt.grid()\n"
      ],
      "metadata": {
        "colab": {
          "base_uri": "https://localhost:8080/",
          "height": 265
        },
        "id": "UzZ59jM1Uap5",
        "outputId": "68ad814e-5594-4d3a-99a5-5ac6466a61b9"
      },
      "execution_count": null,
      "outputs": [
        {
          "output_type": "display_data",
          "data": {
            "text/plain": [
              "<Figure size 432x288 with 1 Axes>"
            ],
            "image/png": "[encoded data removed]"
          },
          "metadata": {
            "needs_background": "light"
          }
        }
      ]
    },
    {
      "cell_type": "code",
      "source": [
        "distortion = np.array([0,0,0,0,0])\n",
        "\n",
        "grid_size, square_size = [50, 50], 0.2\n",
        "object_points = np.zeros([grid_size[0] * grid_size[1], 3])\n",
        "mx, my = [(grid_size[0] - 1) * square_size / 2, (grid_size[1] - 1) * square_size / 2]\n",
        "for i in range(grid_size[0]):\n",
        "    for j in range(grid_size[1]):\n",
        "        object_points[i * grid_size[0] + j] = [i * square_size - mx, j * square_size - my, 0]\n",
        "\n",
        "f, p = [0.004417595 , 120e-8] \n",
        "intrinsic = np.array([[f/p, 0, 0], [0, f/p, 0], [0, 0, 0]])\n",
        "rvec = np.array([0.0, 0.0, 0.0])\n",
        "tvec = np.array([0.0, 0.0, 3.0])\n",
        "\n",
        "image_points, jacobian = cv2.projectPoints(object_points, rvec, tvec, intrinsic, 0)\n",
        "\n",
        "plt.scatter(*zip(*image_points[:, 0, :]), 50, marker='.',color = 'green')\n",
        "plt.axis('equal')\n",
        "plt.xlim(-2016, 2016)\n",
        "plt.ylim(-1134, 1134)\n",
        "\n",
        "plt.minorticks_on()\n",
        "plt.grid()\n"
      ],
      "metadata": {
        "colab": {
          "base_uri": "https://localhost:8080/",
          "height": 265
        },
        "id": "NcRrRGjqClYC",
        "outputId": "e255228e-c528-4def-c0c9-41e1d15b3fd9"
      },
      "execution_count": null,
      "outputs": [
        {
          "output_type": "display_data",
          "data": {
            "text/plain": [
              "<Figure size 432x288 with 1 Axes>"
            ],
            "image/png": "[encoded data removed]"
          },
          "metadata": {
            "needs_background": "light"
          }
        }
      ]
    }
  ]
}