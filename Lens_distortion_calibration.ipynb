{
  "nbformat": 4,
  "nbformat_minor": 0,
  "metadata": {
    "colab": {
      "provenance": []
    },
    "kernelspec": {
      "name": "python3",
      "display_name": "Python 3"
    },
    "language_info": {
      "name": "python"
    },
    "accelerator": "GPU"
  },
  "cells": [
    {
      "cell_type": "markdown",
      "source": [
        "Import Package"
      ],
      "metadata": {
        "id": "cDaZVBMMpfa5"
      }
    },
    {
      "cell_type": "code",
      "execution_count": null,
      "metadata": {
        "id": "46tGvWNcmHbq"
      },
      "outputs": [],
      "source": [
        "import numpy as np\n",
        "import matplotlib.pyplot as plt\n",
        "from scipy.optimize import least_squares\n",
        "\n",
        "%matplotlib inline\n",
        "plt.rcParams[\"figure.figsize\"] = (40.32,2.268)"
      ]
    },
    {
      "cell_type": "markdown",
      "source": [
        "Declear the symmetrical radial distortion parameters  "
      ],
      "metadata": {
        "id": "LJ2_jY37pimR"
      }
    },
    {
      "cell_type": "code",
      "source": [
        "k_1 = -0.00725\n",
        "k_2 = 0.0008791\n",
        "k_3 =  0\n",
        "\n",
        "r = np.linspace(-0.00725,10,1000)\n",
        "r_distorted = r*(1 + k_1 * r**2 + k_2 * r**4 + k_3 * r**6)\n",
        "\n",
        "plt.xlabel('distortion')\n",
        "plt.ylabel('radial distance')\n",
        "plt.plot(r,r_distorted)\n",
        "plt.grid()\n",
        "plt.show()\n"
      ],
      "metadata": {
        "colab": {
          "base_uri": "https://localhost:8080/",
          "height": 185
        },
        "id": "daa6P78fmwre",
        "outputId": "6ee866e1-68d8-458d-9d1c-7cb90525cc77"
      },
      "execution_count": null,
      "outputs": [
        {
          "output_type": "display_data",
          "data": {
            "text/plain": [
              "<Figure size 290.304x163.296 with 1 Axes>"
            ],
            "image/png": "[encoded data removed]"
          },
          "metadata": {
            "needs_background": "light"
          }
        }
      ]
    },
    {
      "cell_type": "code",
      "source": [
        "def distort_line(x,y,k_1,k_2,k_3):\n",
        "    r = np.sqrt(x**2 + y**2)\n",
        "    x_distorted = x*(1 + k_1 * r**2 + k_2 * r**4 + k_3 * r**6)\n",
        "    y_distorted = y*(1 + k_1 * r**2 + k_2 * r**4 + k_3 * r**6)\n",
        "    return(x_distorted,y_distorted)\n",
        "\n",
        "for y in np.linspace(-1,1,10):\n",
        "    x = np.linspace(-1,1,1000)\n",
        "    x_distorted,y_distorted = distort_line(x,y,k_1,k_2,k_3)\n",
        "    plt.plot(x_distorted,y_distorted,color='green',alpha=1)\n",
        "    \n",
        "for x in np.linspace(-1,1,10):\n",
        "    y = np.linspace(-1,1,1000)\n",
        "    x_distorted,y_distorted = distort_line(x,y,k_1,k_2,k_3)\n",
        "    plt.plot(x_distorted,y_distorted,color='red',alpha=1)\n",
        "    \n",
        "plt.minorticks_on()\n",
        "plt.xlim(-1,1)\n",
        "plt.ylim(-1,1)\n",
        "plt.show()"
      ],
      "metadata": {
        "colab": {
          "base_uri": "https://localhost:8080/",
          "height": 175
        },
        "id": "HNMQ6tPem9hF",
        "outputId": "ed45f8ae-028c-433b-91b2-8a0003e368e3"
      },
      "execution_count": null,
      "outputs": [
        {
          "output_type": "display_data",
          "data": {
            "text/plain": [
              "<Figure size 290.304x163.296 with 1 Axes>"
            ],
            "image/png": "[encoded data removed]"
          },
          "metadata": {
            "needs_background": "light"
          }
        }
      ]
    },
    {
      "cell_type": "code",
      "source": [
        "def undistort_point(undistortion_params,r_distorted):\n",
        "    undistorted = r_distorted*(1 + undistortion_params[0] * r_distorted\n",
        "                               + undistortion_params[1] * r_distorted**2\n",
        "                               + undistortion_params[2] * r_distorted**3\n",
        "                               + undistortion_params[3] * r_distorted**4\n",
        "                               + undistortion_params[4] * r_distorted**5)\n",
        "    return(undistorted)\n",
        "\n",
        "def fun(undistortion_params,r_distorted):\n",
        "    #Compute residuals.\n",
        "    undistorted = undistort_point(undistortion_params, r_distorted)\n",
        "    return((undistorted - np.linspace(0,1,1000))).ravel()"
      ],
      "metadata": {
        "id": "ug3oLcKLnX4Y"
      },
      "execution_count": null,
      "outputs": []
    },
    {
      "cell_type": "code",
      "source": [
        "x0 = np.zeros(5).ravel()\n",
        "res = least_squares(fun, x0,  verbose=2, ftol=1e-12,loss='linear', args=([r_distorted]))"
      ],
      "metadata": {
        "colab": {
          "base_uri": "https://localhost:8080/"
        },
        "id": "LNjA-x8Pna86",
        "outputId": "e4288a82-697d-418e-ac51-d8559e5b9c40"
      },
      "execution_count": null,
      "outputs": [
        {
          "output_type": "stream",
          "name": "stdout",
          "text": [
            "   Iteration     Total nfev        Cost      Cost reduction    Step norm     Optimality   \n",
            "       0              1         3.9902e+05                                    1.50e+15    \n",
            "       1              2         7.6377e+02      3.98e+05       1.40e-01       4.92e+06    \n",
            "       2              3         7.6377e+02      0.00e+00       0.00e+00       4.92e+06    \n",
            "`xtol` termination condition is satisfied.\n",
            "Function evaluations 3, initial cost 3.9902e+05, final cost 7.6377e+02, first-order optimality 4.92e+06.\n"
          ]
        }
      ]
    },
    {
      "cell_type": "code",
      "source": [
        "undistorted = undistort_point(res.x,r_distorted)    \n",
        "plt.plot(r_distorted,label='Distorted',alpha=1)\n",
        "plt.plot(undistorted,label='undistorted',alpha=1)\n",
        "plt.plot(np.linspace(-1,1,1000),label='target',alpha=1)\n",
        "plt.legend()\n",
        "plt.grid()\n",
        "plt.show()\n"
      ],
      "metadata": {
        "colab": {
          "base_uri": "https://localhost:8080/",
          "height": 171
        },
        "id": "mZLm8OLwnd9m",
        "outputId": "651f971a-2b39-4c0a-838d-f9c2eddd60ab"
      },
      "execution_count": null,
      "outputs": [
        {
          "output_type": "display_data",
          "data": {
            "text/plain": [
              "<Figure size 290.304x163.296 with 1 Axes>"
            ],
            "image/png": "[encoded data removed]"
          },
          "metadata": {
            "needs_background": "light"
          }
        }
      ]
    },
    {
      "cell_type": "code",
      "source": [
        "print(res.x)"
      ],
      "metadata": {
        "colab": {
          "base_uri": "https://localhost:8080/"
        },
        "id": "Tc8DNrlXng94",
        "outputId": "9156a892-eb55-4c46-f70d-7717588eba06"
      },
      "execution_count": null,
      "outputs": [
        {
          "output_type": "stream",
          "name": "stdout",
          "text": [
            "[-1.39463836e-01  6.82962078e-03 -1.49562264e-04  1.50391870e-06\n",
            " -5.66074856e-09]\n"
          ]
        }
      ]
    }
  ]
}